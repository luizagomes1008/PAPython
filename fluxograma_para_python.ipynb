{
  "nbformat": 4,
  "nbformat_minor": 0,
  "metadata": {
    "colab": {
      "provenance": [],
      "authorship_tag": "ABX9TyO2GHRbgdtaoox/SrojxNtr",
      "include_colab_link": true
    },
    "kernelspec": {
      "name": "python3",
      "display_name": "Python 3"
    },
    "language_info": {
      "name": "python"
    }
  },
  "cells": [
    {
      "cell_type": "markdown",
      "metadata": {
        "id": "view-in-github",
        "colab_type": "text"
      },
      "source": [
        "<a href=\"https://colab.research.google.com/github/luizagomes1008/PAPython/blob/main/fluxograma_para_python.ipynb\" target=\"_parent\"><img src=\"https://colab.research.google.com/assets/colab-badge.svg\" alt=\"Open In Colab\"/></a>"
      ]
    },
    {
      "cell_type": "markdown",
      "source": [
        "#Conversão de fluxograma para python"
      ],
      "metadata": {
        "id": "3Hgembq5tNgU"
      }
    },
    {
      "cell_type": "markdown",
      "source": [
        "##conversão de moeda"
      ],
      "metadata": {
        "id": "lyHHcewntdtD"
      }
    },
    {
      "cell_type": "code",
      "source": [
        "# entrada,  Recebe a cotação do dólar e o valor em reais\n",
        "cotacao_dolar = float(input(\"digite a cotacao do dolar: \"))\n",
        "valor_reais = float(input(\"Digite o valor em reais: \"))"
      ],
      "metadata": {
        "colab": {
          "base_uri": "https://localhost:8080/"
        },
        "id": "Gf7DO1lctZuZ",
        "outputId": "1668fda3-de88-4994-c636-95c07cb7a923"
      },
      "execution_count": 23,
      "outputs": [
        {
          "name": "stdout",
          "output_type": "stream",
          "text": [
            "digite a cotacao do dolar: 5.72\n",
            "Digite o valor em reais: 50\n"
          ]
        }
      ]
    },
    {
      "cell_type": "code",
      "source": [
        "# processamento, Converte pra dólares\n",
        "valor_dolar = valor_reais/cotacao_dolar"
      ],
      "metadata": {
        "id": "e61zm64huRLB"
      },
      "execution_count": 20,
      "outputs": []
    },
    {
      "cell_type": "code",
      "source": [
        "# saida, Mostra o resultado\n",
        "print(f\"O valor em dólares é: ${valor_dolar:.2f}\")"
      ],
      "metadata": {
        "colab": {
          "base_uri": "https://localhost:8080/"
        },
        "id": "3YOEqoUCu8mR",
        "outputId": "cad481c4-f805-48ba-c47b-53d820bbe934"
      },
      "execution_count": 21,
      "outputs": [
        {
          "output_type": "stream",
          "name": "stdout",
          "text": [
            "O valor em dólares é: $8.76\n"
          ]
        }
      ]
    },
    {
      "cell_type": "markdown",
      "source": [
        "## cálculo de comissão"
      ],
      "metadata": {
        "id": "9FvCfgHovzSr"
      }
    },
    {
      "cell_type": "code",
      "source": [
        "# entrada, Recebe o preço unitário e a quantidade vendida\n",
        "preco_unitario = float(input(\"Digite o preço unitário da peça: \"))\n",
        "quantidade_vendida = int(input(\"Digite a quantidade vendida: \"))"
      ],
      "metadata": {
        "colab": {
          "base_uri": "https://localhost:8080/"
        },
        "id": "NHpInMyOv5Hq",
        "outputId": "2b180fae-bd18-425d-bfca-3d5a9fb1c530"
      },
      "execution_count": 22,
      "outputs": [
        {
          "name": "stdout",
          "output_type": "stream",
          "text": [
            "Digite o preço unitário da peça: 15\n",
            "Digite a quantidade vendida: 4\n"
          ]
        }
      ]
    },
    {
      "cell_type": "code",
      "source": [
        "# processamento, Calcula o valor total da venda e a comissão\n",
        "valor_total_venda=preco_unitario * quantidade_vendida\n",
        "comissao=valor_total_venda*0.05"
      ],
      "metadata": {
        "id": "3eYu1mgZwAn4"
      },
      "execution_count": 25,
      "outputs": []
    },
    {
      "cell_type": "code",
      "source": [
        "# saida, Mostra os resultados\n",
        "print(f\"Valor total da venda: R${valor_total_venda:.2f}\")\n",
        "print(f\"Comissão do vendedor: R${comissao:.2f}\")"
      ],
      "metadata": {
        "colab": {
          "base_uri": "https://localhost:8080/"
        },
        "id": "RhHjrG41waCi",
        "outputId": "77a3a376-d96d-4ea6-c7ce-f8cc6e8a9f95"
      },
      "execution_count": 26,
      "outputs": [
        {
          "output_type": "stream",
          "name": "stdout",
          "text": [
            "Valor total da venda: R$60.00\n",
            "Comissão do vendedor: R$3.00\n"
          ]
        }
      ]
    },
    {
      "cell_type": "markdown",
      "source": [
        "##carro e impostos"
      ],
      "metadata": {
        "id": "vAWhod2WwzVN"
      }
    },
    {
      "cell_type": "code",
      "source": [
        "#entrada\n",
        "valor_carro = float(input('digite o valor do carro:' ))"
      ],
      "metadata": {
        "colab": {
          "base_uri": "https://localhost:8080/"
        },
        "id": "y3XtJnhLw964",
        "outputId": "c3e5080a-b2a9-4e2d-93bb-26b8ca59fb91"
      },
      "execution_count": 27,
      "outputs": [
        {
          "name": "stdout",
          "output_type": "stream",
          "text": [
            "digite o valor do carro:40000\n"
          ]
        }
      ]
    },
    {
      "cell_type": "code",
      "source": [
        "#processamento\n",
        "imposto_trib = valor_carro*45/100\n",
        "imposto_dist = (imposto_trib + valor_carro)*28/100\n",
        "valor_consumidor = imposto_dist + imposto_trib + valor_carro"
      ],
      "metadata": {
        "id": "_hWZpvuu68IS"
      },
      "execution_count": 29,
      "outputs": []
    },
    {
      "cell_type": "code",
      "source": [
        "#saida\n",
        "print(f\"Valor final para o consumidor: R${valor_consumidor}\")"
      ],
      "metadata": {
        "colab": {
          "base_uri": "https://localhost:8080/"
        },
        "id": "0DimtcbN7sUo",
        "outputId": "fa10033c-ee20-4647-9471-92603f580e46"
      },
      "execution_count": 30,
      "outputs": [
        {
          "output_type": "stream",
          "name": "stdout",
          "text": [
            "Valor final para o consumidor: R$74240.0\n"
          ]
        }
      ]
    },
    {
      "cell_type": "markdown",
      "source": [
        "##Conversão de tempo"
      ],
      "metadata": {
        "id": "mQY0Jdil8WVg"
      }
    },
    {
      "cell_type": "code",
      "source": [
        "#entrada\n",
        "horas = float(input('digite as horas: '))\n",
        "minutos = float(input('digite os minutos: '))"
      ],
      "metadata": {
        "colab": {
          "base_uri": "https://localhost:8080/"
        },
        "id": "V_R0KjE88cIY",
        "outputId": "6386ab19-c379-49fe-f17e-6d3fb2e8115b"
      },
      "execution_count": 32,
      "outputs": [
        {
          "name": "stdout",
          "output_type": "stream",
          "text": [
            "digite as horas: 2\n",
            "digite os minutos: 30\n"
          ]
        }
      ]
    },
    {
      "cell_type": "code",
      "source": [
        "#processamento\n",
        "min=minutos/60\n",
        "hr=min+horas"
      ],
      "metadata": {
        "id": "szIiTLUs8yaX"
      },
      "execution_count": 34,
      "outputs": []
    },
    {
      "cell_type": "code",
      "source": [
        "print(f\"a conversão fica: {hr}\")"
      ],
      "metadata": {
        "colab": {
          "base_uri": "https://localhost:8080/"
        },
        "id": "c4W4zkBm9rWa",
        "outputId": "77242b36-f3ab-4a0b-fa5b-575a40a1bb9a"
      },
      "execution_count": 36,
      "outputs": [
        {
          "output_type": "stream",
          "name": "stdout",
          "text": [
            "a conversão fica: 2.5\n"
          ]
        }
      ]
    }
  ]
}