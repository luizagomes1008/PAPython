{
  "nbformat": 4,
  "nbformat_minor": 0,
  "metadata": {
    "colab": {
      "provenance": []
    },
    "kernelspec": {
      "name": "python3",
      "display_name": "Python 3"
    },
    "language_info": {
      "name": "python"
    }
  },
  "cells": [
    {
      "cell_type": "markdown",
      "source": [
        "# Variáveis e Constantes\n",
        "\n",
        "## O que são variáveis?\n",
        "\n",
        "Espaços na memória que armazenam dados que podem ser alterados durante a execução do programa."
      ],
      "metadata": {
        "id": "cCPKezQP7S6V"
      }
    },
    {
      "cell_type": "markdown",
      "source": [
        "#Tipo de Dados"
      ],
      "metadata": {
        "id": "0BXg3A1_VU25"
      }
    },
    {
      "cell_type": "code",
      "source": [
        "nome= \"Luiza\"\n",
        "idade= 15\n",
        "altura= 1.65\n",
        "resp= True\n",
        "animais= [\"Lola\", \"kibe\", \"Nina\", \"Neguinha\"]\n",
        "comidafavorita= (\"Comida japonesa\", \"sorvete\")\n",
        "animaisdicio= {\"Porquinhos da índia\":[\"Lola\", \"Kibe\"], \"Cadelas\":[\"Nina\", \"Neguinha\"]}\n",
        "\n",
        "print(\"O nome da pessoa é:\", nome, \"\\nSua idade é:\", idade, \"\\nela tem:\", altura, \"de altura\")\n"
      ],
      "metadata": {
        "colab": {
          "base_uri": "https://localhost:8080/"
        },
        "id": "WusU4vLXVbPJ",
        "outputId": "b39491ec-25f3-4658-a983-bf7d004f1a3f"
      },
      "execution_count": null,
      "outputs": [
        {
          "output_type": "stream",
          "name": "stdout",
          "text": [
            "O nome da pessoa é: Luiza \n",
            "Sua idade é: 15 \n",
            "ela tem: 1.65 de altura\n"
          ]
        }
      ]
    },
    {
      "cell_type": "code",
      "source": [
        "print(type(nome))\n",
        "print(type(idade))\n",
        "print(type(altura))\n",
        "print(type(resp))\n",
        "print(type(animais))\n",
        "print(type(comidafavorita))\n",
        "print(type(animaisdicio))\n"
      ],
      "metadata": {
        "colab": {
          "base_uri": "https://localhost:8080/"
        },
        "id": "pl1yKxk5YCD9",
        "outputId": "dabba001-9ffa-4ebc-bfdd-775403c83237"
      },
      "execution_count": null,
      "outputs": [
        {
          "output_type": "stream",
          "name": "stdout",
          "text": [
            "<class 'str'>\n",
            "<class 'int'>\n",
            "<class 'float'>\n",
            "<class 'bool'>\n",
            "<class 'list'>\n",
            "<class 'tuple'>\n",
            "<class 'dict'>\n"
          ]
        }
      ]
    },
    {
      "cell_type": "markdown",
      "source": [
        "#Constantes\n",
        "##Calculando a área de um círculo"
      ],
      "metadata": {
        "id": "Zhp5uLf5e5nD"
      }
    },
    {
      "cell_type": "code",
      "source": [
        "# entrada\n",
        "raio = float(input(\"raio: \"))\n"
      ],
      "metadata": {
        "colab": {
          "base_uri": "https://localhost:8080/"
        },
        "id": "cJBCaAnGfHuY",
        "outputId": "454f4834-97aa-4ea8-8143-233285b9bb43"
      },
      "execution_count": null,
      "outputs": [
        {
          "name": "stdout",
          "output_type": "stream",
          "text": [
            "raio: 5\n"
          ]
        }
      ]
    },
    {
      "cell_type": "code",
      "source": [
        "# Processamento\n",
        "areacirculo = 3.14159 * (raio**2)"
      ],
      "metadata": {
        "id": "xApyH_wkgvnW"
      },
      "execution_count": null,
      "outputs": []
    },
    {
      "cell_type": "code",
      "source": [
        "# saída\n",
        "print(f\"A área do círculo é igual à: {areacirculo}\")"
      ],
      "metadata": {
        "colab": {
          "base_uri": "https://localhost:8080/"
        },
        "id": "mf9fTCf3ldrN",
        "outputId": "35aa81f2-bfb1-40ee-fc9b-008be3d00b59"
      },
      "execution_count": null,
      "outputs": [
        {
          "output_type": "stream",
          "name": "stdout",
          "text": [
            "A área do círculo é igual à: 78.53975\n"
          ]
        }
      ]
    },
    {
      "cell_type": "markdown",
      "source": [
        "#QUESTÕES ❄:\n",
        "##Área do retângulo"
      ],
      "metadata": {
        "id": "6n0dKIaNluJm"
      }
    },
    {
      "cell_type": "code",
      "source": [
        "# Entrada\n",
        "base = float(input(\"digite a base: \"))\n",
        "altura = float(input(\"digite a altura: \"))"
      ],
      "metadata": {
        "id": "pXWc5e1TmBTc"
      },
      "execution_count": null,
      "outputs": []
    },
    {
      "cell_type": "code",
      "source": [
        "# Processamento\n",
        "arearetangulo = base * altura"
      ],
      "metadata": {
        "id": "CzjobYEumu9T"
      },
      "execution_count": null,
      "outputs": []
    },
    {
      "cell_type": "code",
      "source": [
        "# saída\n",
        "print(f\"A área do retângulo é igual à: {arearetangulo}\")"
      ],
      "metadata": {
        "colab": {
          "base_uri": "https://localhost:8080/"
        },
        "id": "0P3GG4IOnFPM",
        "outputId": "191749d1-6e8c-4a70-968f-aebf944b1e12"
      },
      "execution_count": null,
      "outputs": [
        {
          "output_type": "stream",
          "name": "stdout",
          "text": [
            "A área do retângulo é igual à: 50.0\n"
          ]
        }
      ]
    },
    {
      "cell_type": "markdown",
      "source": [
        "##Perímetro do círuclo"
      ],
      "metadata": {
        "id": "v37B097KnUxU"
      }
    },
    {
      "cell_type": "code",
      "source": [
        "# entrada\n",
        "PI = 3.1416\n",
        "raio = float(input(\"digite o raio: \"))"
      ],
      "metadata": {
        "colab": {
          "base_uri": "https://localhost:8080/"
        },
        "id": "qI8wUeIuncdJ",
        "outputId": "2a22d067-cfe0-4c0d-bdb6-28a37eb09e4d"
      },
      "execution_count": null,
      "outputs": [
        {
          "name": "stdout",
          "output_type": "stream",
          "text": [
            "digite o raio: 17\n"
          ]
        }
      ]
    },
    {
      "cell_type": "code",
      "source": [
        "# Processamento\n",
        "perimetrocirculo = 2 * PI * raio"
      ],
      "metadata": {
        "id": "dURRKoBXn0-s"
      },
      "execution_count": null,
      "outputs": []
    },
    {
      "cell_type": "code",
      "source": [
        "# saída\n",
        "print(f\"O perímetro do círculo é igula à: {perimetrocirculo:.2f}\")"
      ],
      "metadata": {
        "colab": {
          "base_uri": "https://localhost:8080/"
        },
        "id": "tbYqVLSroDyi",
        "outputId": "b45f58db-fada-40c6-aca5-99369ca10492"
      },
      "execution_count": null,
      "outputs": [
        {
          "output_type": "stream",
          "name": "stdout",
          "text": [
            "O perímetro do círculo é igula à: 106.81\n"
          ]
        }
      ]
    },
    {
      "cell_type": "markdown",
      "source": [
        "## Conversão de temperatura\n"
      ],
      "metadata": {
        "id": "OUEH1LsQomOx"
      }
    },
    {
      "cell_type": "code",
      "source": [
        "# Entrada\n",
        "Fahrenheit = float(input(\"Digite a temperatura em Fahrenheit: \"))"
      ],
      "metadata": {
        "colab": {
          "base_uri": "https://localhost:8080/"
        },
        "id": "wu1ro-z8ovIn",
        "outputId": "0a2ac13c-0acb-474e-f72a-a640b17020a5"
      },
      "execution_count": null,
      "outputs": [
        {
          "name": "stdout",
          "output_type": "stream",
          "text": [
            "Digite a temperatura em Fahrenheit: 87\n"
          ]
        }
      ]
    },
    {
      "cell_type": "code",
      "source": [
        "# Processamento\n",
        "conversao = (Fahrenheit-32)*5/9"
      ],
      "metadata": {
        "id": "fvTssMpFpLtP"
      },
      "execution_count": null,
      "outputs": []
    },
    {
      "cell_type": "code",
      "source": [
        "# Saída\n",
        "print(f\"A conversão de 87F para Celcius fica: {conversao:.2f}\")"
      ],
      "metadata": {
        "colab": {
          "base_uri": "https://localhost:8080/"
        },
        "id": "MQHuYPM3peJn",
        "outputId": "f73daf7b-eacb-47f0-f5c2-72924714d67b"
      },
      "execution_count": null,
      "outputs": [
        {
          "output_type": "stream",
          "name": "stdout",
          "text": [
            "A conversão de 87F para Celcius fica: 30.56\n"
          ]
        }
      ]
    },
    {
      "cell_type": "markdown",
      "source": [
        "##Cálculo do IMC"
      ],
      "metadata": {
        "id": "4jx8oPPXqExm"
      }
    },
    {
      "cell_type": "code",
      "source": [
        "# Entrada\n",
        "Peso = float(input(\"Digite seu peso: \"))\n",
        "Altura = float(input(\"Digite sua Altura: \"))"
      ],
      "metadata": {
        "colab": {
          "base_uri": "https://localhost:8080/"
        },
        "id": "nz_YoDvaqOiA",
        "outputId": "b24c2ba8-822b-4e23-9b97-bb10be333813"
      },
      "execution_count": null,
      "outputs": [
        {
          "name": "stdout",
          "output_type": "stream",
          "text": [
            "Digite seu peso: 55\n",
            "Digite sua Altura: 1.65\n"
          ]
        }
      ]
    },
    {
      "cell_type": "code",
      "source": [
        "# Processamento\n",
        "imc = Peso/Altura**2"
      ],
      "metadata": {
        "id": "QoKDBHwIqic_"
      },
      "execution_count": null,
      "outputs": []
    },
    {
      "cell_type": "code",
      "source": [
        "# Saída\n",
        "print(f\"O seu IMC é igual à: {imc:.1f}\")"
      ],
      "metadata": {
        "colab": {
          "base_uri": "https://localhost:8080/"
        },
        "id": "Qym3DehcqxwN",
        "outputId": "81177f47-ec03-4630-a3de-aff154d44e4d"
      },
      "execution_count": null,
      "outputs": [
        {
          "output_type": "stream",
          "name": "stdout",
          "text": [
            "O seu IMC é igual à: 20.2\n"
          ]
        }
      ]
    },
    {
      "cell_type": "markdown",
      "source": [
        "##Execução exemplo"
      ],
      "metadata": {
        "id": "DmvLEAe9sBjj"
      }
    },
    {
      "cell_type": "code",
      "execution_count": null,
      "metadata": {
        "colab": {
          "base_uri": "https://localhost:8080/"
        },
        "id": "UWos-DRh6jT5",
        "outputId": "efb22029-41e9-4d74-ecbf-330ac093174b"
      },
      "outputs": [
        {
          "output_type": "stream",
          "name": "stdout",
          "text": [
            "Nome: Luiza Gomes\n",
            "Idade: 15\n",
            "hobbie: jogar jogos\n",
            "-_-_-_-_-_-_-_-_-_-_-_-_-_-_\n",
            "O nome da pessoa é: Luiza Gomes \n",
            "Sua idade é: 15 \n",
            "Seu hobbie é: jogar jogos\n",
            "-_-_-_-_-_-_-_-_-_-_-_-_-_-_\n",
            "\n"
          ]
        }
      ],
      "source": [
        "nome = \"Luiza Gomes\"\n",
        "idade = 15\n",
        "hobbie = \"jogar jogos\"\n",
        "print(f\"Nome: {nome}\\nIdade: {idade}\\nhobbie: {hobbie}\")\n",
        "print(\"-_-_-_-_-_-_-_-_-_-_-_-_-_-_\")\n",
        "print(\"O nome da pessoa é:\", nome, \"\\nSua idade é:\", idade, \"\\nSeu hobbie é:\", hobbie)\n",
        "print(\"-_-_-_-_-_-_-_-_-_-_-_-_-_-_\")\n",
        "print(\"\")"
      ]
    }
  ]
}